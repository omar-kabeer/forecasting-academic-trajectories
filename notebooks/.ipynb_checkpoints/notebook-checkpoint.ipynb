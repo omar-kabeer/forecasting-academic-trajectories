{
 "cells": [
  {
   "cell_type": "markdown",
   "id": "8c1bcd0e",
   "metadata": {},
   "source": [
    "<h2><center> Forecasting Academic Trajectories: Predicting Students Success</h2></center>\n",
    "<figure>\n",
    "<center><img src =\"https://www.aacrao.org/images/default-source/connect-images/connect-student-success.jpg?sfvrsn=d2f12ede_3\" width = \"750\" height = '500' alt=\"unsplash.com\"/>"
   ]
  },
  {
   "cell_type": "markdown",
   "id": "348f1af0",
   "metadata": {},
   "source": [
    "## Author: Umar Kabir\n",
    "\n",
    "Date: [July, 2023]"
   ]
  },
  {
   "cell_type": "markdown",
   "id": "2ad33f76",
   "metadata": {},
   "source": [
    "<a id='table-of-contents'></a>\n",
    "# Table of Contents\n",
    "\n",
    "1. [Introduction](#introduction)\n",
    "    - Motivation\n",
    "    - Problem Statement\n",
    "    - Objective\n",
    "    - Data Source\n",
    "    - Importing Dependencies  \n",
    "\n",
    "\n",
    "2. [Data](#2-data)\n",
    "    - Data Loading\n",
    "    - Dataset Overview\n",
    "\n",
    "\n",
    "3. [Exploratory Data Analysis](#exploratory-data-analysis)\n",
    "    - Descriptive Statistics\n",
    "    - Data Visualization\n",
    "    - Correlation Analysis\n",
    "    - Outlier Detection\n",
    "\n",
    "\n",
    "4. [Data Preparation](#data-preparation)\n",
    "    - Data Cleaning\n",
    "    - Handling Missing Values\n",
    "    - Handling Imbalanced Classes\n",
    "    - Feature Selection\n",
    "    - Feature Engineering\n",
    "    - Data Transformation\n",
    "    - Data Splitting\n",
    "\n",
    "\n",
    "5. [Model Development](#model-development)\n",
    "    - Baseline Model\n",
    "    - Model Selection\n",
    "    - Model Training\n",
    "    - Hyperparameter Tuning\n",
    "\n",
    "\n",
    "6. [Model Evaluation](#model-evaluation)\n",
    "    - Performance Metrics\n",
    "    - Confusion Matrix\n",
    "    - ROC Curve\n",
    "    - Precision-Recall Curve\n",
    "    - Cross-Validation\n",
    "    - Bias-Variance Tradeoff\n",
    "\n",
    "\n",
    "7. [Model Interpretation](#model-interpretation)\n",
    "    - Feature Importance\n",
    "    - Model Explanation Techniques\n",
    "    - Business Impact Analysis\n",
    "\n",
    "\n",
    "8. [Conclusion](#conclusion)\n",
    "    - Summary of Findings\n",
    "    - Recommendations\n",
    "    - Limitations\n",
    "    - Future Work\n",
    "    - Final Thoughts\n",
    "\n",
    "\n",
    "9. [References](#references)"
   ]
  },
  {
   "cell_type": "markdown",
   "id": "cb7bc0f0",
   "metadata": {},
   "source": [
    "<a id='introduction'></a>\n",
    "<font size=\"+2\" color='#053c96'><b> Introduction</b></font>  \n",
    "[back to top](#table-of-contents)  "
   ]
  },
  {
   "cell_type": "markdown",
   "id": "b95dbff8",
   "metadata": {},
   "source": [
    "<font size=\"+0\" color='green'><b> Motivation</b></font>  \n",
    "\n",
    "The motivation behind this project on predicting students dropout and academic success stems from various factors. Here are a some motivations:\n",
    "\n",
    "1. Improving Educational Support: By accurately predicting students who are at risk of dropping out or struggling academically, educational institutions can provide targeted interventions and support systems to help these students succeed. This project aims to empower educators and administrators with data-driven insights to proactively address student needs.\n",
    "\n",
    "2. Resource Optimization: Dropout rates and academic underperformance can lead to wasted resources for educational institutions. By identifying students who are likely to drop out or face challenges, schools can allocate resources more efficiently, such as providing additional tutoring or counseling services, to prevent dropout and promote academic success.\n",
    "\n",
    "3. Enhancing Graduation Rates: Increasing graduation rates is a key goal for educational institutions. By understanding the factors that contribute to dropout and success, this project can assist in developing effective strategies and interventions to improve graduation rates and ensure more students complete their educational journeys.\n",
    "\n",
    "4. Personalized Education: Every student has unique needs and learning styles. By predicting students' academic success and dropout risk, educators can tailor their teaching approaches and curriculum to cater to individual students' strengths and weaknesses, fostering a more personalized and effective learning environment.\n",
    "\n",
    "5. Data-Driven Decision Making: In the era of big data, leveraging data science techniques to analyze student-related data can provide valuable insights for educational policymakers and administrators. Predictive models can inform evidence-based decision making, enabling educational institutions to implement targeted interventions, allocate resources effectively, and design policies that foster student success.\n",
    "\n",
    "Overall, the motivation behind this project is to leverage data science and predictive modeling to improve educational outcomes, reduce dropout rates, and ensure that students receive the necessary support to thrive academically."
   ]
  },
  {
   "cell_type": "markdown",
   "id": "74cb2b87",
   "metadata": {},
   "source": [
    "<font size=\"+0\" color='green'><b> Problem Statement</b></font>  \n",
    "\n",
    "\"Given the dataset contains information about students, including demographic data, academic performance, socio-economic factors, and other relevant features, the goal of this project is to develop a predictive model that can accurately classify students into two categories: those at risk of dropping out and those likely to succeed academically. By utilizing machine learning algorithms and data analysis techniques, the project aims to identify key factors and patterns that contribute to dropout and academic success, providing valuable insights for educational institutions to implement proactive measures and interventions to support at-risk students and enhance overall student outcomes.\"\n",
    "\n",
    "In summary, the problem statement revolves around developing a predictive model that can effectively predict which students are at risk of dropping out and which students are likely to succeed academically. The project aims to leverage data science techniques to identify crucial factors that influence these outcomes and provide actionable insights to educational institutions to improve student support and enhance overall academic success."
   ]
  },
  {
   "cell_type": "markdown",
   "id": "da06c58d",
   "metadata": {},
   "source": [
    "<font size=\"+0\" color='green'><b> Objectives</b></font>  \n",
    "\n",
    "- Build a robust predictive model that accurately classifies students into two categories: those at risk of dropping out and those likely to succeed academically.\n",
    "- Identify and analyze key factors that contribute to student dropout and academic success through exploratory data analysis and feature engineering.\n",
    "- Evaluate and compare the performance of different machine learning algorithms in predicting student outcomes.\n",
    "- Develop strategies to handle imbalanced classes to ensure accurate predictions for both minority and majority classes.\n",
    "- Implement appropriate data preprocessing techniques, including data cleaning, handling missing values, and feature scaling, to ensure high-quality input for the predictive model.\n",
    "- Assess the impact of various features on the prediction of student outcomes using feature importance analysis and statistical measures.\n",
    "- Interpret and communicate the results of the predictive model to stakeholders, such as educators, administrators, and policymakers, in a clear and actionable manner.\n",
    "- Provide insights and recommendations to educational institutions for proactive interventions, resource allocation, and personalized support to improve student success rates and reduce dropout rates.\n",
    "- Explore the ethical considerations and potential biases in the predictive model to ensure fairness and equity in decision-making processes.\n",
    "- Conduct thorough model evaluation using appropriate performance metrics, such as accuracy, precision, recall, and F1-score, to assess the effectiveness and reliability of the predictive model.\n",
    "- Document the project process, including data preprocessing, model development, evaluation, and interpretation, to facilitate reproducibility and future extensions of the work."
   ]
  },
  {
   "cell_type": "markdown",
   "id": "46686294",
   "metadata": {},
   "source": [
    "<font size=\"+0\" color='green'><b> Data Source</b></font>  \n",
    "\n",
    "The dataset used in this project is sourced from a higher education institution and can be accessed from the UCI Machine Learning Repository. The dataset was created by acquiring data from several disjoint databases related to students enrolled in various undergraduate degrees such as agronomy, design, education, nursing, journalism, management, social service, and technologies. It includes information known at the time of student enrollment, including academic path, demographics, and socio-economic factors. Additionally, the dataset incorporates the students' academic performance at the end of the first and second semesters.\n",
    "\n",
    "The purpose of creating this dataset is to contribute to the reduction of academic dropout and failure in higher education by leveraging machine learning techniques to identify students at risk at an early stage of their academic journey. By identifying at-risk students, appropriate strategies and interventions can be implemented to support their educational progress.\n",
    "\n",
    "The dataset is formulated as a three-category classification task, categorizing students into dropout, enrolled, and graduate classes at the end of the normal duration of the course. It is important to note that the dataset exhibits a strong class imbalance.\n",
    "\n",
    "The creation of this dataset was supported by the program SATDAP - Capacitação da Administração Pública under grant POCI-05-5762-FSE-000191 in Portugal.\n",
    "\n",
    "The dataset has been subjected to recommended data splits, where 80% of the data was used for training and 20% for testing purposes.\n",
    "\n",
    "Data preprocessing has been conducted on the dataset to address anomalies, unexplainable outliers, and missing values.\n",
    "\n",
    "The dataset has already been used in a pilot project, enabling the tutoring team at the higher education institution to estimate the risk of dropout and failure among students. This information has been instrumental in providing more accurate assistance and support to students by the tutoring team."
   ]
  },
  {
   "cell_type": "markdown",
   "id": "bafda93c",
   "metadata": {},
   "source": [
    "<font size=\"+0\" color='green'><b> Importing Dependencies</b></font>  "
   ]
  },
  {
   "cell_type": "code",
   "execution_count": 1,
   "id": "1ca49672",
   "metadata": {},
   "outputs": [],
   "source": [
    "import sys\n",
    "# Insert the parent path relative to this notebook so we can import from the src folder.\n",
    "sys.path.insert(0, \"..\")\n",
    "\n",
    "from src.dependencies import *"
   ]
  },
  {
   "cell_type": "markdown",
   "id": "7193821a",
   "metadata": {},
   "source": [
    "<a id='#data'></a>\n",
    "<font size=\"+2\" color='#053c96'><b> Data</b></font>  \n",
    "[back to top](#table-of-contents)"
   ]
  },
  {
   "cell_type": "markdown",
   "id": "5adb7564",
   "metadata": {},
   "source": [
    "<font size=\"+0\" color='green'><b> Data Loading</b></font>  "
   ]
  },
  {
   "cell_type": "code",
   "execution_count": 2,
   "id": "ded840cf",
   "metadata": {},
   "outputs": [],
   "source": [
    "df = pd.read_csv('../src/data/data.csv', delimiter=';')"
   ]
  },
  {
   "cell_type": "markdown",
   "id": "00d03d0b",
   "metadata": {},
   "source": [
    "<font size=\"+0\" color='green'><b> Data Overview</b></font>  "
   ]
  },
  {
   "cell_type": "code",
   "execution_count": 3,
   "id": "268bce94",
   "metadata": {},
   "outputs": [
    {
     "data": {
      "text/plain": [
       "(4424, 37)"
      ]
     },
     "execution_count": 3,
     "metadata": {},
     "output_type": "execute_result"
    }
   ],
   "source": [
    "df.shape"
   ]
  },
  {
   "cell_type": "code",
   "execution_count": 4,
   "id": "7f8423e1",
   "metadata": {},
   "outputs": [
    {
     "name": "stdout",
     "output_type": "stream",
     "text": [
      "<class 'pandas.core.frame.DataFrame'>\n",
      "RangeIndex: 4424 entries, 0 to 4423\n",
      "Data columns (total 37 columns):\n",
      " #   Column                                          Non-Null Count  Dtype  \n",
      "---  ------                                          --------------  -----  \n",
      " 0   Marital status                                  4424 non-null   int64  \n",
      " 1   Application mode                                4424 non-null   int64  \n",
      " 2   Application order                               4424 non-null   int64  \n",
      " 3   Course                                          4424 non-null   int64  \n",
      " 4   Daytime/evening attendance\t                     4424 non-null   int64  \n",
      " 5   Previous qualification                          4424 non-null   int64  \n",
      " 6   Previous qualification (grade)                  4424 non-null   float64\n",
      " 7   Nacionality                                     4424 non-null   int64  \n",
      " 8   Mother's qualification                          4424 non-null   int64  \n",
      " 9   Father's qualification                          4424 non-null   int64  \n",
      " 10  Mother's occupation                             4424 non-null   int64  \n",
      " 11  Father's occupation                             4424 non-null   int64  \n",
      " 12  Admission grade                                 4424 non-null   float64\n",
      " 13  Displaced                                       4424 non-null   int64  \n",
      " 14  Educational special needs                       4424 non-null   int64  \n",
      " 15  Debtor                                          4424 non-null   int64  \n",
      " 16  Tuition fees up to date                         4424 non-null   int64  \n",
      " 17  Gender                                          4424 non-null   int64  \n",
      " 18  Scholarship holder                              4424 non-null   int64  \n",
      " 19  Age at enrollment                               4424 non-null   int64  \n",
      " 20  International                                   4424 non-null   int64  \n",
      " 21  Curricular units 1st sem (credited)             4424 non-null   int64  \n",
      " 22  Curricular units 1st sem (enrolled)             4424 non-null   int64  \n",
      " 23  Curricular units 1st sem (evaluations)          4424 non-null   int64  \n",
      " 24  Curricular units 1st sem (approved)             4424 non-null   int64  \n",
      " 25  Curricular units 1st sem (grade)                4424 non-null   float64\n",
      " 26  Curricular units 1st sem (without evaluations)  4424 non-null   int64  \n",
      " 27  Curricular units 2nd sem (credited)             4424 non-null   int64  \n",
      " 28  Curricular units 2nd sem (enrolled)             4424 non-null   int64  \n",
      " 29  Curricular units 2nd sem (evaluations)          4424 non-null   int64  \n",
      " 30  Curricular units 2nd sem (approved)             4424 non-null   int64  \n",
      " 31  Curricular units 2nd sem (grade)                4424 non-null   float64\n",
      " 32  Curricular units 2nd sem (without evaluations)  4424 non-null   int64  \n",
      " 33  Unemployment rate                               4424 non-null   float64\n",
      " 34  Inflation rate                                  4424 non-null   float64\n",
      " 35  GDP                                             4424 non-null   float64\n",
      " 36  Target                                          4424 non-null   object \n",
      "dtypes: float64(7), int64(29), object(1)\n",
      "memory usage: 1.2+ MB\n"
     ]
    }
   ],
   "source": [
    "df.info()"
   ]
  },
  {
   "cell_type": "code",
   "execution_count": 5,
   "id": "5f96883e",
   "metadata": {},
   "outputs": [
    {
     "data": {
      "text/html": [
       "<div>\n",
       "<style scoped>\n",
       "    .dataframe tbody tr th:only-of-type {\n",
       "        vertical-align: middle;\n",
       "    }\n",
       "\n",
       "    .dataframe tbody tr th {\n",
       "        vertical-align: top;\n",
       "    }\n",
       "\n",
       "    .dataframe thead th {\n",
       "        text-align: right;\n",
       "    }\n",
       "</style>\n",
       "<table border=\"1\" class=\"dataframe\">\n",
       "  <thead>\n",
       "    <tr style=\"text-align: right;\">\n",
       "      <th></th>\n",
       "      <th>Marital status</th>\n",
       "      <th>Application mode</th>\n",
       "      <th>Application order</th>\n",
       "      <th>Course</th>\n",
       "      <th>Daytime/evening attendance\\t</th>\n",
       "      <th>Previous qualification</th>\n",
       "      <th>Previous qualification (grade)</th>\n",
       "      <th>Nacionality</th>\n",
       "      <th>Mother's qualification</th>\n",
       "      <th>Father's qualification</th>\n",
       "      <th>Mother's occupation</th>\n",
       "      <th>Father's occupation</th>\n",
       "      <th>Admission grade</th>\n",
       "      <th>Displaced</th>\n",
       "      <th>Educational special needs</th>\n",
       "      <th>Debtor</th>\n",
       "      <th>Tuition fees up to date</th>\n",
       "      <th>Gender</th>\n",
       "      <th>Scholarship holder</th>\n",
       "      <th>Age at enrollment</th>\n",
       "      <th>International</th>\n",
       "      <th>Curricular units 1st sem (credited)</th>\n",
       "      <th>Curricular units 1st sem (enrolled)</th>\n",
       "      <th>Curricular units 1st sem (evaluations)</th>\n",
       "      <th>Curricular units 1st sem (approved)</th>\n",
       "      <th>Curricular units 1st sem (grade)</th>\n",
       "      <th>Curricular units 1st sem (without evaluations)</th>\n",
       "      <th>Curricular units 2nd sem (credited)</th>\n",
       "      <th>Curricular units 2nd sem (enrolled)</th>\n",
       "      <th>Curricular units 2nd sem (evaluations)</th>\n",
       "      <th>Curricular units 2nd sem (approved)</th>\n",
       "      <th>Curricular units 2nd sem (grade)</th>\n",
       "      <th>Curricular units 2nd sem (without evaluations)</th>\n",
       "      <th>Unemployment rate</th>\n",
       "      <th>Inflation rate</th>\n",
       "      <th>GDP</th>\n",
       "      <th>Target</th>\n",
       "    </tr>\n",
       "  </thead>\n",
       "  <tbody>\n",
       "    <tr>\n",
       "      <th>0</th>\n",
       "      <td>1</td>\n",
       "      <td>17</td>\n",
       "      <td>5</td>\n",
       "      <td>171</td>\n",
       "      <td>1</td>\n",
       "      <td>1</td>\n",
       "      <td>122.0</td>\n",
       "      <td>1</td>\n",
       "      <td>19</td>\n",
       "      <td>12</td>\n",
       "      <td>5</td>\n",
       "      <td>9</td>\n",
       "      <td>127.3</td>\n",
       "      <td>1</td>\n",
       "      <td>0</td>\n",
       "      <td>0</td>\n",
       "      <td>1</td>\n",
       "      <td>1</td>\n",
       "      <td>0</td>\n",
       "      <td>20</td>\n",
       "      <td>0</td>\n",
       "      <td>0</td>\n",
       "      <td>0</td>\n",
       "      <td>0</td>\n",
       "      <td>0</td>\n",
       "      <td>0.000000</td>\n",
       "      <td>0</td>\n",
       "      <td>0</td>\n",
       "      <td>0</td>\n",
       "      <td>0</td>\n",
       "      <td>0</td>\n",
       "      <td>0.000000</td>\n",
       "      <td>0</td>\n",
       "      <td>10.8</td>\n",
       "      <td>1.4</td>\n",
       "      <td>1.74</td>\n",
       "      <td>Dropout</td>\n",
       "    </tr>\n",
       "    <tr>\n",
       "      <th>1</th>\n",
       "      <td>1</td>\n",
       "      <td>15</td>\n",
       "      <td>1</td>\n",
       "      <td>9254</td>\n",
       "      <td>1</td>\n",
       "      <td>1</td>\n",
       "      <td>160.0</td>\n",
       "      <td>1</td>\n",
       "      <td>1</td>\n",
       "      <td>3</td>\n",
       "      <td>3</td>\n",
       "      <td>3</td>\n",
       "      <td>142.5</td>\n",
       "      <td>1</td>\n",
       "      <td>0</td>\n",
       "      <td>0</td>\n",
       "      <td>0</td>\n",
       "      <td>1</td>\n",
       "      <td>0</td>\n",
       "      <td>19</td>\n",
       "      <td>0</td>\n",
       "      <td>0</td>\n",
       "      <td>6</td>\n",
       "      <td>6</td>\n",
       "      <td>6</td>\n",
       "      <td>14.000000</td>\n",
       "      <td>0</td>\n",
       "      <td>0</td>\n",
       "      <td>6</td>\n",
       "      <td>6</td>\n",
       "      <td>6</td>\n",
       "      <td>13.666667</td>\n",
       "      <td>0</td>\n",
       "      <td>13.9</td>\n",
       "      <td>-0.3</td>\n",
       "      <td>0.79</td>\n",
       "      <td>Graduate</td>\n",
       "    </tr>\n",
       "    <tr>\n",
       "      <th>2</th>\n",
       "      <td>1</td>\n",
       "      <td>1</td>\n",
       "      <td>5</td>\n",
       "      <td>9070</td>\n",
       "      <td>1</td>\n",
       "      <td>1</td>\n",
       "      <td>122.0</td>\n",
       "      <td>1</td>\n",
       "      <td>37</td>\n",
       "      <td>37</td>\n",
       "      <td>9</td>\n",
       "      <td>9</td>\n",
       "      <td>124.8</td>\n",
       "      <td>1</td>\n",
       "      <td>0</td>\n",
       "      <td>0</td>\n",
       "      <td>0</td>\n",
       "      <td>1</td>\n",
       "      <td>0</td>\n",
       "      <td>19</td>\n",
       "      <td>0</td>\n",
       "      <td>0</td>\n",
       "      <td>6</td>\n",
       "      <td>0</td>\n",
       "      <td>0</td>\n",
       "      <td>0.000000</td>\n",
       "      <td>0</td>\n",
       "      <td>0</td>\n",
       "      <td>6</td>\n",
       "      <td>0</td>\n",
       "      <td>0</td>\n",
       "      <td>0.000000</td>\n",
       "      <td>0</td>\n",
       "      <td>10.8</td>\n",
       "      <td>1.4</td>\n",
       "      <td>1.74</td>\n",
       "      <td>Dropout</td>\n",
       "    </tr>\n",
       "    <tr>\n",
       "      <th>3</th>\n",
       "      <td>1</td>\n",
       "      <td>17</td>\n",
       "      <td>2</td>\n",
       "      <td>9773</td>\n",
       "      <td>1</td>\n",
       "      <td>1</td>\n",
       "      <td>122.0</td>\n",
       "      <td>1</td>\n",
       "      <td>38</td>\n",
       "      <td>37</td>\n",
       "      <td>5</td>\n",
       "      <td>3</td>\n",
       "      <td>119.6</td>\n",
       "      <td>1</td>\n",
       "      <td>0</td>\n",
       "      <td>0</td>\n",
       "      <td>1</td>\n",
       "      <td>0</td>\n",
       "      <td>0</td>\n",
       "      <td>20</td>\n",
       "      <td>0</td>\n",
       "      <td>0</td>\n",
       "      <td>6</td>\n",
       "      <td>8</td>\n",
       "      <td>6</td>\n",
       "      <td>13.428571</td>\n",
       "      <td>0</td>\n",
       "      <td>0</td>\n",
       "      <td>6</td>\n",
       "      <td>10</td>\n",
       "      <td>5</td>\n",
       "      <td>12.400000</td>\n",
       "      <td>0</td>\n",
       "      <td>9.4</td>\n",
       "      <td>-0.8</td>\n",
       "      <td>-3.12</td>\n",
       "      <td>Graduate</td>\n",
       "    </tr>\n",
       "    <tr>\n",
       "      <th>4</th>\n",
       "      <td>2</td>\n",
       "      <td>39</td>\n",
       "      <td>1</td>\n",
       "      <td>8014</td>\n",
       "      <td>0</td>\n",
       "      <td>1</td>\n",
       "      <td>100.0</td>\n",
       "      <td>1</td>\n",
       "      <td>37</td>\n",
       "      <td>38</td>\n",
       "      <td>9</td>\n",
       "      <td>9</td>\n",
       "      <td>141.5</td>\n",
       "      <td>0</td>\n",
       "      <td>0</td>\n",
       "      <td>0</td>\n",
       "      <td>1</td>\n",
       "      <td>0</td>\n",
       "      <td>0</td>\n",
       "      <td>45</td>\n",
       "      <td>0</td>\n",
       "      <td>0</td>\n",
       "      <td>6</td>\n",
       "      <td>9</td>\n",
       "      <td>5</td>\n",
       "      <td>12.333333</td>\n",
       "      <td>0</td>\n",
       "      <td>0</td>\n",
       "      <td>6</td>\n",
       "      <td>6</td>\n",
       "      <td>6</td>\n",
       "      <td>13.000000</td>\n",
       "      <td>0</td>\n",
       "      <td>13.9</td>\n",
       "      <td>-0.3</td>\n",
       "      <td>0.79</td>\n",
       "      <td>Graduate</td>\n",
       "    </tr>\n",
       "  </tbody>\n",
       "</table>\n",
       "</div>"
      ],
      "text/plain": [
       "   Marital status  Application mode  Application order  Course  \\\n",
       "0               1                17                  5     171   \n",
       "1               1                15                  1    9254   \n",
       "2               1                 1                  5    9070   \n",
       "3               1                17                  2    9773   \n",
       "4               2                39                  1    8014   \n",
       "\n",
       "   Daytime/evening attendance\\t  Previous qualification  \\\n",
       "0                             1                       1   \n",
       "1                             1                       1   \n",
       "2                             1                       1   \n",
       "3                             1                       1   \n",
       "4                             0                       1   \n",
       "\n",
       "   Previous qualification (grade)  Nacionality  Mother's qualification  \\\n",
       "0                           122.0            1                      19   \n",
       "1                           160.0            1                       1   \n",
       "2                           122.0            1                      37   \n",
       "3                           122.0            1                      38   \n",
       "4                           100.0            1                      37   \n",
       "\n",
       "   Father's qualification  Mother's occupation  Father's occupation  \\\n",
       "0                      12                    5                    9   \n",
       "1                       3                    3                    3   \n",
       "2                      37                    9                    9   \n",
       "3                      37                    5                    3   \n",
       "4                      38                    9                    9   \n",
       "\n",
       "   Admission grade  Displaced  Educational special needs  Debtor  \\\n",
       "0            127.3          1                          0       0   \n",
       "1            142.5          1                          0       0   \n",
       "2            124.8          1                          0       0   \n",
       "3            119.6          1                          0       0   \n",
       "4            141.5          0                          0       0   \n",
       "\n",
       "   Tuition fees up to date  Gender  Scholarship holder  Age at enrollment  \\\n",
       "0                        1       1                   0                 20   \n",
       "1                        0       1                   0                 19   \n",
       "2                        0       1                   0                 19   \n",
       "3                        1       0                   0                 20   \n",
       "4                        1       0                   0                 45   \n",
       "\n",
       "   International  Curricular units 1st sem (credited)  \\\n",
       "0              0                                    0   \n",
       "1              0                                    0   \n",
       "2              0                                    0   \n",
       "3              0                                    0   \n",
       "4              0                                    0   \n",
       "\n",
       "   Curricular units 1st sem (enrolled)  \\\n",
       "0                                    0   \n",
       "1                                    6   \n",
       "2                                    6   \n",
       "3                                    6   \n",
       "4                                    6   \n",
       "\n",
       "   Curricular units 1st sem (evaluations)  \\\n",
       "0                                       0   \n",
       "1                                       6   \n",
       "2                                       0   \n",
       "3                                       8   \n",
       "4                                       9   \n",
       "\n",
       "   Curricular units 1st sem (approved)  Curricular units 1st sem (grade)  \\\n",
       "0                                    0                          0.000000   \n",
       "1                                    6                         14.000000   \n",
       "2                                    0                          0.000000   \n",
       "3                                    6                         13.428571   \n",
       "4                                    5                         12.333333   \n",
       "\n",
       "   Curricular units 1st sem (without evaluations)  \\\n",
       "0                                               0   \n",
       "1                                               0   \n",
       "2                                               0   \n",
       "3                                               0   \n",
       "4                                               0   \n",
       "\n",
       "   Curricular units 2nd sem (credited)  Curricular units 2nd sem (enrolled)  \\\n",
       "0                                    0                                    0   \n",
       "1                                    0                                    6   \n",
       "2                                    0                                    6   \n",
       "3                                    0                                    6   \n",
       "4                                    0                                    6   \n",
       "\n",
       "   Curricular units 2nd sem (evaluations)  \\\n",
       "0                                       0   \n",
       "1                                       6   \n",
       "2                                       0   \n",
       "3                                      10   \n",
       "4                                       6   \n",
       "\n",
       "   Curricular units 2nd sem (approved)  Curricular units 2nd sem (grade)  \\\n",
       "0                                    0                          0.000000   \n",
       "1                                    6                         13.666667   \n",
       "2                                    0                          0.000000   \n",
       "3                                    5                         12.400000   \n",
       "4                                    6                         13.000000   \n",
       "\n",
       "   Curricular units 2nd sem (without evaluations)  Unemployment rate  \\\n",
       "0                                               0               10.8   \n",
       "1                                               0               13.9   \n",
       "2                                               0               10.8   \n",
       "3                                               0                9.4   \n",
       "4                                               0               13.9   \n",
       "\n",
       "   Inflation rate   GDP    Target  \n",
       "0             1.4  1.74   Dropout  \n",
       "1            -0.3  0.79  Graduate  \n",
       "2             1.4  1.74   Dropout  \n",
       "3            -0.8 -3.12  Graduate  \n",
       "4            -0.3  0.79  Graduate  "
      ]
     },
     "execution_count": 5,
     "metadata": {},
     "output_type": "execute_result"
    }
   ],
   "source": [
    "df.head()"
   ]
  },
  {
   "cell_type": "markdown",
   "id": "5d5b57fe",
   "metadata": {},
   "source": [
    "<a id='exploratory-data-analysis'></a>\n",
    "<font size=\"+2\" color='#053c96'><b> Exploratory Data Analysis</b></font>  \n",
    "[back to top](#table-of-contents)"
   ]
  },
  {
   "cell_type": "markdown",
   "id": "613915dc",
   "metadata": {},
   "source": [
    "<a id='data-exploration'></a>\n",
    "<font size=\"+0\" color='green'><b> Data Exploration</b></font>  "
   ]
  },
  {
   "cell_type": "code",
   "execution_count": 10,
   "id": "cca7b852",
   "metadata": {},
   "outputs": [
    {
     "data": {
      "text/plain": [
       "1    3919\n",
       "2     379\n",
       "4      91\n",
       "5      25\n",
       "6       6\n",
       "3       4\n",
       "Name: Marital status, dtype: int64"
      ]
     },
     "execution_count": 10,
     "metadata": {},
     "output_type": "execute_result"
    }
   ],
   "source": [
    "df['Marital status'].value_counts()"
   ]
  },
  {
   "cell_type": "markdown",
   "id": "6e0286f1",
   "metadata": {},
   "source": [
    "1. – single \n",
    "2. – married \n",
    "3. – widower \n",
    "4. – divorced \n",
    "5. – facto union \n",
    "6. – legally separated"
   ]
  },
  {
   "cell_type": "code",
   "execution_count": 9,
   "id": "8fd8ca52",
   "metadata": {},
   "outputs": [
    {
     "data": {
      "text/plain": [
       "1     1708\n",
       "17     872\n",
       "39     785\n",
       "43     312\n",
       "44     213\n",
       "7      139\n",
       "18     124\n",
       "42      77\n",
       "51      59\n",
       "16      38\n",
       "53      35\n",
       "15      30\n",
       "5       16\n",
       "10      10\n",
       "2        3\n",
       "57       1\n",
       "26       1\n",
       "27       1\n",
       "Name: Application mode, dtype: int64"
      ]
     },
     "execution_count": 9,
     "metadata": {},
     "output_type": "execute_result"
    }
   ],
   "source": [
    "df['Application mode'].value_counts()"
   ]
  },
  {
   "cell_type": "markdown",
   "id": "ddbec656",
   "metadata": {},
   "source": [
    "- 1 - 1st phase - general contingent \n",
    "- 2 - Ordinance No. 612/93 \n",
    "- 5 - 1st phase - special contingent (Azores Island) \n",
    "- 7 - Holders of other higher courses \n",
    "- 10 - Ordinance No. 854-B/99 \n",
    "- 15 - International student (bachelor) \n",
    "- 16 - 1st phase - special contingent (Madeira Island) \n",
    "- 17 - 2nd phase - general contingent \n",
    "- 18 - 3rd phase - general contingent \n",
    "- 26 - Ordinance No. 533-A/99, item b2) (Different Plan) \n",
    "- 27 - Ordinance No. 533-A/99, item b3 (Other Institution) \n",
    "- 39 - Over 23 years old \n",
    "- 42 - Transfer \n",
    "- 43 - Change of course \n",
    "- 44 - Technological specialization diploma holders \n",
    "- 51 - Change of institution/course \n",
    "- 53 - Short cycle diploma holders \n",
    "- 57 - Change of institution/course (International)"
   ]
  },
  {
   "cell_type": "code",
   "execution_count": 11,
   "id": "ce09f5f1",
   "metadata": {},
   "outputs": [
    {
     "data": {
      "text/plain": [
       "1    3026\n",
       "2     547\n",
       "3     309\n",
       "4     249\n",
       "5     154\n",
       "6     137\n",
       "9       1\n",
       "0       1\n",
       "Name: Application order, dtype: int64"
      ]
     },
     "execution_count": 11,
     "metadata": {},
     "output_type": "execute_result"
    }
   ],
   "source": [
    "df['Application order'].value_counts()"
   ]
  },
  {
   "cell_type": "markdown",
   "id": "c03632dd",
   "metadata": {},
   "source": [
    "Application order (between 0 - first choice; and 9 last choice)"
   ]
  },
  {
   "cell_type": "markdown",
   "id": "fab1d39c",
   "metadata": {},
   "source": [
    "<a id='data-visualization'></a>\n",
    "<font size=\"+0\" color='green'><b> Data Visualization</b></font>  "
   ]
  },
  {
   "cell_type": "markdown",
   "id": "a80e01e0",
   "metadata": {},
   "source": [
    "<a id='summary-statistics'></a>\n",
    "<font size=\"+0\" color='green'><b> Summary Statistics</b></font>  "
   ]
  },
  {
   "cell_type": "markdown",
   "id": "2377a37f",
   "metadata": {},
   "source": [
    "<a id='feature-correlation'></a>\n",
    "<font size=\"+0\" color='green'><b> Feature Correlation</b></font>  "
   ]
  },
  {
   "cell_type": "markdown",
   "id": "98e0bd7c",
   "metadata": {},
   "source": [
    "<a id='data-preparation'></a>\n",
    "<font size=\"+2\" color='#053c96'><b> Data Preparation</b></font>  \n",
    "[back to top](#table-of-contents)"
   ]
  },
  {
   "cell_type": "markdown",
   "id": "c77fdda0",
   "metadata": {},
   "source": [
    "<font size=\"+0\" color='green'><b> Data CLeaning</b></font>  "
   ]
  },
  {
   "cell_type": "markdown",
   "id": "f38b3d56",
   "metadata": {},
   "source": [
    "<font size=\"+0\" color='green'><b> Handling Imbalanced Classes</b></font>  "
   ]
  },
  {
   "cell_type": "markdown",
   "id": "502405d3",
   "metadata": {},
   "source": [
    "<font size=\"+0\" color='green'><b> Feature Engineering</b></font>  "
   ]
  },
  {
   "cell_type": "markdown",
   "id": "30bf45a6",
   "metadata": {},
   "source": [
    "<font size=\"+0\" color='green'><b> Feature Selection</b></font>  "
   ]
  },
  {
   "cell_type": "markdown",
   "id": "36f53cc7",
   "metadata": {},
   "source": [
    "<font size=\"+0\" color='green'><b> Data Transformation</b></font>  "
   ]
  },
  {
   "cell_type": "markdown",
   "id": "547d36ea",
   "metadata": {},
   "source": [
    "<font size=\"+0\" color='green'><b> Data Splitting</b></font>  "
   ]
  },
  {
   "cell_type": "markdown",
   "id": "9bcb7bb7",
   "metadata": {},
   "source": [
    "<a id='model-development'></a>\n",
    "\n",
    "<font size=\"+2\" color='#053c96'><b> Model Development</b></font>  \n",
    "[back to top](#table-of-contents)"
   ]
  },
  {
   "cell_type": "markdown",
   "id": "7c1fe961",
   "metadata": {},
   "source": [
    "<font size=\"+0\" color='green'><b> Baseline Model</b></font>  "
   ]
  },
  {
   "cell_type": "markdown",
   "id": "97d63bf1",
   "metadata": {},
   "source": [
    "<font size=\"+0\" color='green'><b> Model Selection</b></font>  "
   ]
  },
  {
   "cell_type": "markdown",
   "id": "d6bd781a",
   "metadata": {},
   "source": [
    "<font size=\"+0\" color='green'><b> Model Training</b></font>  "
   ]
  },
  {
   "cell_type": "markdown",
   "id": "f908bff1",
   "metadata": {},
   "source": [
    "<font size=\"+0\" color='green'><b> Hyperparameter Tuning</b></font>  "
   ]
  },
  {
   "cell_type": "markdown",
   "id": "81842569",
   "metadata": {},
   "source": [
    "<a id='model-evaluation'></a>\n",
    "\n",
    "<font size=\"+2\" color='#053c96'><b> Model Evaluation</b></font>  \n",
    "[back to top](#table-of-contents)"
   ]
  },
  {
   "cell_type": "markdown",
   "id": "99b11d68",
   "metadata": {},
   "source": [
    "<font size=\"+0\" color='green'><b> Performance Metrics</b></font>  "
   ]
  },
  {
   "cell_type": "markdown",
   "id": "5b4e9dae",
   "metadata": {},
   "source": [
    "<font size=\"+0\" color='green'><b> Confusion Matrix</b></font>  "
   ]
  },
  {
   "cell_type": "markdown",
   "id": "c56917e2",
   "metadata": {},
   "source": [
    "<font size=\"+0\" color='green'><b> ROC Curve</b></font>  "
   ]
  },
  {
   "cell_type": "markdown",
   "id": "77227974",
   "metadata": {},
   "source": [
    "<font size=\"+0\" color='green'><b> Precision-Recall Curve</b></font>   "
   ]
  },
  {
   "cell_type": "markdown",
   "id": "eadc7705",
   "metadata": {},
   "source": [
    "<font size=\"+0\" color='green'><b> Cross-Validation</b></font>   "
   ]
  },
  {
   "cell_type": "markdown",
   "id": "5c245245",
   "metadata": {},
   "source": [
    "<font size=\"+0\" color='green'><b> Bias-Variance Tradeoff</b></font>   "
   ]
  },
  {
   "cell_type": "markdown",
   "id": "3e6f9884",
   "metadata": {},
   "source": [
    "<a id='model-interpretation'></a>\n",
    "<font size=\"+2\" color='#053c96'><b> Model Interpretation</b></font>  \n",
    "[back to top](#table-of-contents)"
   ]
  },
  {
   "cell_type": "markdown",
   "id": "df02e654",
   "metadata": {},
   "source": [
    "<font size=\"+0\" color='green'><b> Feature Importance</b></font>   "
   ]
  },
  {
   "cell_type": "markdown",
   "id": "55c58983",
   "metadata": {},
   "source": [
    "<font size=\"+0\" color='green'><b> Model Explanation Techniques</b></font>   "
   ]
  },
  {
   "cell_type": "markdown",
   "id": "4ec9a2c8",
   "metadata": {},
   "source": [
    "<font size=\"+0\" color='green'><b> Business Impact Analysis</b></font>   "
   ]
  },
  {
   "cell_type": "markdown",
   "id": "9c89320c",
   "metadata": {},
   "source": [
    "<a id='conclusion'></a>\n",
    "\n",
    "<font size=\"+2\" color='#053c96'><b> Conclusion</b></font>  \n",
    "[back to top](#table-of-contents)"
   ]
  },
  {
   "cell_type": "markdown",
   "id": "a229a94a",
   "metadata": {},
   "source": [
    "<font size=\"+0\" color='green'><b> Summary of Findings</b></font>   "
   ]
  },
  {
   "cell_type": "markdown",
   "id": "ecd40bb0",
   "metadata": {},
   "source": [
    "<font size=\"+0\" color='green'><b> Recommendations</b></font>   "
   ]
  },
  {
   "cell_type": "markdown",
   "id": "3ecf1484",
   "metadata": {},
   "source": [
    "<font size=\"+0\" color='green'><b> Limitations</b></font>   "
   ]
  },
  {
   "cell_type": "markdown",
   "id": "622a91ec",
   "metadata": {},
   "source": [
    "<font size=\"+0\" color='green'><b> Future Work</b></font>   "
   ]
  },
  {
   "cell_type": "markdown",
   "id": "a48a2a86",
   "metadata": {},
   "source": [
    "<font size=\"+0\" color='green'><b> Final Thoughts</b></font>   "
   ]
  },
  {
   "cell_type": "markdown",
   "id": "a1d54afe",
   "metadata": {},
   "source": [
    "<a id='references'></a>\n",
    "\n",
    "<font size=\"+2\" color='#053c96'><b> References</b></font>  \n",
    "[back to top](#table-of-contents)"
   ]
  },
  {
   "cell_type": "markdown",
   "id": "2beafdae",
   "metadata": {},
   "source": []
  }
 ],
 "metadata": {
  "kernelspec": {
   "display_name": "Python 3 (ipykernel)",
   "language": "python",
   "name": "python3"
  },
  "language_info": {
   "codemirror_mode": {
    "name": "ipython",
    "version": 3
   },
   "file_extension": ".py",
   "mimetype": "text/x-python",
   "name": "python",
   "nbconvert_exporter": "python",
   "pygments_lexer": "ipython3",
   "version": "3.10.9"
  }
 },
 "nbformat": 4,
 "nbformat_minor": 5
}
